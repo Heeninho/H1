{
 "cells": [
  {
   "cell_type": "markdown",
   "id": "8e492617",
   "metadata": {},
   "source": [
    "\"\"\"INTRODUKSJON\n",
    "Dette prosjektet vil ta for seg oppgaver angående Virrevandrere og deres bevegelser gjennom vev og tumorer. \n",
    "Vi vil også ta en titt på kodekjøring og dens tidsbruk og hvordan å få gjort kode til å kjøre raskere.\n",
    "\n",
    "For oppgave 1, er det hovedsaklig bevegelsene til virrevandrerne i en og to dimensjoner som skal sees på.\n",
    "Kjernekoden vil være forklart grundig i oppgave 1b og 1c, mens de videre oppgavene vil bruke denne kjernekoden og bygge videre rundt på,\n",
    "hvor endringer eller avvik vil kommenteres for å tydeligjøre hva som skjer i den gitte oppgavne.\n",
    "\n",
    "I oppgave 2 skal virrevandrerne fremstilles som realistiske bevegelser i menneskekroppen, gjennom vev og tumorer. \n",
    "her skal det implementeres at bevegelsene til virrevanedrerne vil endre seg om den entrer tumoren. \n",
    "vandrerne er avhengig av diffusjonskonstanten til det stoffet det er inni, og i tumorene vil dette øke.\n",
    "Det skal også komme tydelig frem hva som skjer om tumorene overlapper.\"\"\""
   ]
  },
  {
   "cell_type": "code",
   "execution_count": 1,
   "id": "16c8e0aa",
   "metadata": {},
   "outputs": [
    {
     "data": {
      "text/plain": [
       "'Den første oppgaven handler om å benytte oss av de formler og teori som er oppgitt og utlede en løsning på ligning(5) i formleheftet\\n\\nFra denne ligningene får vi to svar: (1): t=+-(x^2)/a, (2): t=1\\nligning 1 får vi fra den matemtiske utregningen, mens t=1 for vi fra deduktiv utregning ved at hvis man tar den første-og andre deriverte \\nav t=1 og setter inn i ligningen vil vi ende opp med 0=0 og dermed må t=1 være en mulig lønsing for ligningen.\\n'"
      ]
     },
     "execution_count": 1,
     "metadata": {},
     "output_type": "execute_result"
    }
   ],
   "source": [
    "#oppgave 1a\n",
    "\"\"\"Den første oppgaven handler om å benytte oss av de formler og teori som er oppgitt og utlede en løsning på ligning(5) i formleheftet\n",
    "\n",
    "Fra denne ligningene får vi to svar: (1): t=+-(x^2)/a, (2): t=1\n",
    "ligning 1 får vi fra den matemtiske utregningen, mens t=1 for vi fra deduktiv utregning ved at hvis man tar den første-og andre deriverte \n",
    "av t=1 og setter inn i ligningen vil vi ende opp med 0=0 og dermed må t=1 være en mulig lønsing for ligningen.\n",
    "\"\"\""
   ]
  },
  {
   "cell_type": "code",
   "execution_count": 2,
   "id": "7846be28",
   "metadata": {},
   "outputs": [
    {
     "data": {
      "text/plain": [
       "(4e-06, 0.01, 7.999999999999999e-10, 0.41)"
      ]
     },
     "execution_count": 2,
     "metadata": {},
     "output_type": "execute_result"
    }
   ],
   "source": [
    "#oppgave 2\n",
    "#Begynner med å importere alle viktige bibliotejer som kan trenges videre gjennom oppgaven\n",
    "import numpy as np\n",
    "from matplotlib import pyplot as plt #spare litt tid ved å ikke implementere hele biblioteket\n",
    "import timeit\n",
    "from random import randint\n",
    "\n",
    "#2a) \n",
    "def endre_variabel1(input_dx,input_dt):\n",
    "    \n",
    "    global dx,dt # gjør dx og dt variableene til globale variabler som gjør at de kan brukes utenom funksjonen\n",
    "    dx= input_dx\n",
    "    dt= input_dt\n",
    "    t_k = np.random.randint(30,45)/100 \n",
    "    #t_k skl være mellom 0.3-0.45, men randint klarer ikke å ta det som input, derfor deler vi heller på 100 etterpå\n",
    "    D =((dx)**2)/(2*dt)  #effektiv diffusjonskontsant\n",
    "    return dx,dt, D, t_k \n",
    "\n",
    "    \"\"\" Returnerer de gitte variablene \n",
    "        slik at om man ønsker å endre variablene kan ma kalle på funksjonen \n",
    "        i den gitte oppgaven uten at det endrer tidligere kall\n",
    "        \n",
    "        Returnerer også D, fordi den er avhengig av både dx og dt.\n",
    "    \"\"\"\n",
    "endre_variabel1(4*10**-6,0.01)"
   ]
  },
  {
   "cell_type": "code",
   "execution_count": 3,
   "id": "cb92bf74",
   "metadata": {},
   "outputs": [
    {
     "name": "stdout",
     "output_type": "stream",
     "text": [
      "Enkel_virre_bevegelse bruker 0.0289 sekunder\n",
      "Enkel_virre_bevegelse bruker 0.0351 sekunder\n",
      "Enkel_virre_bevegelse bruker 0.0325 sekunder\n"
     ]
    },
    {
     "data": {
      "image/png": "[encoded data removed]",
      "text/plain": [
       "<Figure size 432x288 with 1 Axes>"
      ]
     },
     "metadata": {
      "needs_background": "light"
     },
     "output_type": "display_data"
    }
   ],
   "source": [
    "##oppgave 1b\n",
    "\"\"\"\n",
    "Nå skal den første virrevandreren komme til liv. Her skal bevegelsen vandreren tar\n",
    "være tilfeldig mellom høyre og venstre. Dette skal skje i en dimensjon. \n",
    "I tillegg vil det i slutten av hver oppgave være en kodesnutt som måler tiden det tar å kjøre koden på hver .\n",
    "Diverse Variabler som går igjen i hele prosjektet, er definert her:\n",
    "\n",
    "  \n",
    "          Variabler:\n",
    "    \n",
    "    TilfeldigeTall : Lager en liste med tilfeldige tall\n",
    "    posisjon       : Lager et array med nuller, for å fylles inn med gitte betingelser senere\n",
    "    tid            : Lager et array med 0-1, med delintervaller M\n",
    "    pr             : En oppgitt sansynlighetsvariabel, som er den som avgjør virrevandrerens bevegelse\n",
    "    dx             : Steglengde (for oppgave 1, er dx=1)\n",
    "    dt             : Tidsteg    (for oppgave 1, er dt=dx=1)\n",
    "    M              : Hvor stor eller hvor mange ganger 'i' skal kjøre\n",
    "    N              : Antall virrevandrere\n",
    "    m              : Antall tumorer\n",
    "\"\"\"\n",
    "    \n",
    "endre_variabel1(1,1)\n",
    "#Oppgitt i oppgaven skal dx=dt=1, så henter dette fra den tidligere funksjonen\"\n",
    " \n",
    "def Enkel_virre_bevegelse(M,pr):\n",
    "    #oppretter 3 arrays for posisjon, tid og en lsite med tileldige tall\"\n",
    "    \n",
    "    \"\"\"Posisjon: Foreløpig er posisjonen ukjent, så vi trenger et tomt array med bare nuller\n",
    "       som senere skal fylles inn\n",
    "       Deretter lages et tilsvarende stort array som har lik lengde som posisjonsarrayet,\n",
    "       for å kunne ta hensyn til hvor vandreren befinner seg pr tid\n",
    "       Tid : for å lage bevegelsen til vandreren trenger vi at for\n",
    "       hver gang den skal bevege seg skal velge mellom høyre eller venstre\"\n",
    "    \"\"\"\n",
    "    TilfeldigeTall = np.random.uniform(0,1,M) \n",
    "    posisjon       = np.zeros(M)             \n",
    "    tid            = np.linspace(0, 1, M)\n",
    "    for i in range (1,M): #Vi velger at den skal bevege seg M ganger, og må dermed sjekke posisjonen for hver gang\n",
    "        \n",
    "        \"\"\"\n",
    "        Går gjennom lista med tilfeldige tall og sjekker om posisjonen er større eller lik pr\n",
    "        Hvis den er større så vil det trekkes fra dx og bevege seg til høyre\n",
    "        Hvis den er mindre vil den legges til dx vl den bevege seg til venstre.\n",
    "        \"\"\"\n",
    "        if TilfeldigeTall[i] < pr:\n",
    "            posisjon[i] = posisjon[i-1] + dx  #Denne vil bevege seg til venstre\n",
    "        else:\n",
    "            posisjon[i] = posisjon[i-1] - dx  #Denne vil bevege seg til høyree\n",
    "    \n",
    "    print(\"Enkel_virre_bevegelse bruker\",round(timeit.timeit(),4),\"sekunder\")\n",
    "    return tid, posisjon\n",
    "\n",
    "#Oppgave 1c\n",
    "\n",
    "\"\"\"\n",
    "Plotter for de 3 oppgitte testverdiene for pr[ 0.5, 0.45, 0.55] og plotter dem hver for seg\n",
    "plotter funksjonen med verdier, og akser som gir mening\n",
    "plt.show() for å vise dem som 3 separate grafer\n",
    "\"\"\"\n",
    "\n",
    "tid1, posisjon1 = Enkel_virre_bevegelse(50,0.5)\n",
    "tid2, posisjon2 = Enkel_virre_bevegelse(50,0.45)\n",
    "tid3, posisjon3 = Enkel_virre_bevegelse(50,0.55)\n",
    "\n",
    "plt.plot(tid1,posisjon1,label=\"0.5\")\n",
    "plt.plot(tid2,posisjon2,label=\"0.45\")\n",
    "plt.plot(tid3,posisjon3,label=\"0.55\")\n",
    "plt.legend()\n",
    "plt.xlabel(\"per tidsteg\")\n",
    "plt.ylabel(\"høyre eller venstre bevegelse\")\n",
    "plt.show()"
   ]
  },
  {
   "cell_type": "markdown",
   "id": "5c0992ee",
   "metadata": {},
   "source": [
    "\n",
    "Den blå grafen viser sansynlighet 0.5. Hvis man kjører plottet flere ganger er det tilfeldig om den blå linja vil gå opp eller ned rundt verdien 0. \n",
    "Men vil ikke ha store avvik i y-retning bort fra verdien 0. \n",
    "\n",
    "Amplituden til p=0.45 og p=0.55, vil variere mer og grafen følger dermed lengre ned for 0.55(venstre) og oppover for 0.45(høyre). \n",
    "\n",
    "Hvis sansnlgiheten øker/minker vil grafene ha større amplitude i y-retning.\n",
    "Dermed kan man se at grafene kan være representative for bevegelsene til virrevandrerne."
   ]
  },
  {
   "cell_type": "code",
   "execution_count": 82,
   "id": "25ee40a5",
   "metadata": {},
   "outputs": [
    {
     "name": "stdout",
     "output_type": "stream",
     "text": [
      "N_virrevandrere bruker 0.0357 sekunder\n"
     ]
    },
    {
     "data": {
      "image/png": "[encoded data removed]",
      "text/plain": [
       "<Figure size 432x288 with 1 Axes>"
      ]
     },
     "metadata": {
      "needs_background": "light"
     },
     "output_type": "display_data"
    }
   ],
   "source": [
    "#oppgave 1d\n",
    "\"\"\"Denne oppgaven gjenbruker mye av den forrige funksjon\n",
    "    men for et antall N, virrevandrere samtidig\n",
    "\"\"\"\n",
    "\n",
    "def N_virrevandrere(M,pr,N): \n",
    "    \"\"\"\n",
    "    Legger til en ekstra for_loop for å sjekke \n",
    "    for de ekstra N virrevandrerne\n",
    "    deretter gjentar man på den forrige funksjonen\n",
    "    for hver enkelt virrevandrer\n",
    "    \"\"\"\n",
    "    posisjon = np.zeros((N ,M))\n",
    "    tid      = np.linspace(0,N,M)\n",
    "    \n",
    "    for i in range (0,N): #Går gjennom en loop for et N antall virrevandrere\n",
    "            \n",
    "        TilfeldigeTall = np.random.uniform(0,1,M)\n",
    "        #Kopierer inn fra forrige oppgave innenfor loopen \n",
    "        for j in range (1,M):\n",
    "            if TilfeldigeTall[j] < pr:\n",
    "                posisjon[i][j] = posisjon[i][j-1] + dx\n",
    "            else:\n",
    "                posisjon[i][j] = posisjon[i][j-1] - dx\n",
    " \n",
    "    print(\"N_virrevandrere bruker\",round(timeit.timeit(),4),\"sekunder\")               \n",
    "    return tid, posisjon\n",
    "\n",
    "tid,posisjon = N_virrevandrere(1000,0.5,3) #returnerer funksjonen for å kunne plotte, økes N øker antall virrevandrere\n",
    "\n",
    "plt.xlabel(\"pr tidsteg\")\n",
    "plt.ylabel(\"høyre eller venstre bevegelse\")\n",
    "plt.plot(tid,posisjon[0],label=\"Vandrer nr1\") # Velger N = 3 og plotter for 3 virrevandrere.\n",
    "plt.plot(tid,posisjon[1],label=\"Vandrer nr2\") # Vandrerne har samme betingelser, men varierer stort\n",
    "plt.plot(tid,posisjon[2],label=\"Vandrer nr3\") # For å plotte flere, kunne man tatt plottet inn i en for-loop, eller bare kopiere inn for pos[4] osv.\n",
    "plt.legend()\n",
    "plt.show()"
   ]
  },
  {
   "cell_type": "markdown",
   "id": "f700dad1",
   "metadata": {},
   "source": [
    "Ettersom sansynligheten for bevegelsene er den samme for alle virrevandrerne er det helt tilfeldig hvilken som varierer mest bort fra 0. For en kjøring med et stort antall N, ville figuren gått mot en rettere strek. "
   ]
  },
  {
   "cell_type": "code",
   "execution_count": null,
   "id": "6c4c4fba",
   "metadata": {},
   "outputs": [],
   "source": []
  },
  {
   "cell_type": "code",
   "execution_count": 223,
   "id": "4b06be5f",
   "metadata": {},
   "outputs": [
    {
     "name": "stdout",
     "output_type": "stream",
     "text": [
      "N_virrevandrere_raskere bruker 0.0239 sekunder\n"
     ]
    },
    {
     "data": {
      "image/png": "[encoded data removed]",
      "text/plain": [
       "<Figure size 432x288 with 1 Axes>"
      ]
     },
     "metadata": {
      "needs_background": "light"
     },
     "output_type": "display_data"
    }
   ],
   "source": [
    "#oppgave 1e - øke hastigheten\n",
    "\"\"\"\n",
    "I denne oppgaven skal vi gjøre koden raskere, dette kan vi gjøre ved å kjøre funksjonen cumsum().\n",
    "i tillegg er det mulig å kalle på @jit\n",
    "eller å endre for loop til while loop, dette gir en liten tidsendring som skal gjøre den raskere.\n",
    "\"\"\"\n",
    "\n",
    "def N_virrevandrere_raskere(M,pr,N):\n",
    "\n",
    "    posisjon = np.zeros((N ,M))\n",
    "    tid      = np.linspace(0, 1, M)\n",
    "    \n",
    "    np.cumsum(posisjon) #implementerer cumsum() for å øke hastigheten på koden\n",
    "    i=0\n",
    "    while i<N: #Går gjennom en loop for et N antall virrevandrere\n",
    "            \n",
    "        TilfeldigeTall = np.random.uniform(0,1,M)\n",
    "        \n",
    "        for j in range (1,M):\n",
    "            if TilfeldigeTall[j] < pr:\n",
    "                posisjon[i][j] = posisjon[i][j-1] + dx\n",
    "            else:\n",
    "                posisjon[i][j] = posisjon[i][j-1] - dx\n",
    "        i+=1\n",
    "        \n",
    "    print(\"N_virrevandrere_raskere bruker\",round(timeit.timeit(),4),\"sekunder\")\n",
    "    return tid, posisjon\n",
    "\n",
    "tid, posisjon = N_virrevandrere_raskere(100,0.5,3)\n",
    "\n",
    "plt.plot(tid, posisjon[0])\n",
    "plt.plot(tid, posisjon[1])\n",
    "plt.plot(tid, posisjon[2])\n",
    "plt.show()\n"
   ]
  },
  {
   "cell_type": "code",
   "execution_count": 224,
   "id": "852c6ead",
   "metadata": {},
   "outputs": [
    {
     "name": "stdout",
     "output_type": "stream",
     "text": [
      "N_virrevandrere_raskere bruker 0.0257 sekunder\n",
      "N_virrevandrere_raskere bruker 0.0246 sekunder\n",
      "N_virrevandrere_raskere bruker 0.0308 sekunder\n",
      "N_virrevandrere_raskere bruker 0.0262 sekunder\n",
      "N_virrevandrere_raskere bruker 0.0405 sekunder\n",
      "N_virrevandrere bruker 0.0317 sekunder\n",
      "N_virrevandrere bruker 0.029 sekunder\n",
      "N_virrevandrere bruker 0.0289 sekunder\n",
      "N_virrevandrere bruker 0.0304 sekunder\n",
      "N_virrevandrere bruker 0.0244 sekunder\n"
     ]
    },
    {
     "data": {
      "text/plain": [
       "(array([   0.        ,    1.001001  ,    2.002002  ,    3.003003  ,\n",
       "           4.004004  ,    5.00500501,    6.00600601,    7.00700701,\n",
       "           8.00800801,    9.00900901,   10.01001001,   11.01101101,\n",
       "          12.01201201,   13.01301301,   14.01401401,   15.01501502,\n",
       "          16.01601602,   17.01701702,   18.01801802,   19.01901902,\n",
       "          20.02002002,   21.02102102,   22.02202202,   23.02302302,\n",
       "          24.02402402,   25.02502503,   26.02602603,   27.02702703,\n",
       "          28.02802803,   29.02902903,   30.03003003,   31.03103103,\n",
       "          32.03203203,   33.03303303,   34.03403403,   35.03503504,\n",
       "          36.03603604,   37.03703704,   38.03803804,   39.03903904,\n",
       "          40.04004004,   41.04104104,   42.04204204,   43.04304304,\n",
       "          44.04404404,   45.04504505,   46.04604605,   47.04704705,\n",
       "          48.04804805,   49.04904905,   50.05005005,   51.05105105,\n",
       "          52.05205205,   53.05305305,   54.05405405,   55.05505506,\n",
       "          56.05605606,   57.05705706,   58.05805806,   59.05905906,\n",
       "          60.06006006,   61.06106106,   62.06206206,   63.06306306,\n",
       "          64.06406406,   65.06506507,   66.06606607,   67.06706707,\n",
       "          68.06806807,   69.06906907,   70.07007007,   71.07107107,\n",
       "          72.07207207,   73.07307307,   74.07407407,   75.07507508,\n",
       "          76.07607608,   77.07707708,   78.07807808,   79.07907908,\n",
       "          80.08008008,   81.08108108,   82.08208208,   83.08308308,\n",
       "          84.08408408,   85.08508509,   86.08608609,   87.08708709,\n",
       "          88.08808809,   89.08908909,   90.09009009,   91.09109109,\n",
       "          92.09209209,   93.09309309,   94.09409409,   95.0950951 ,\n",
       "          96.0960961 ,   97.0970971 ,   98.0980981 ,   99.0990991 ,\n",
       "         100.1001001 ,  101.1011011 ,  102.1021021 ,  103.1031031 ,\n",
       "         104.1041041 ,  105.10510511,  106.10610611,  107.10710711,\n",
       "         108.10810811,  109.10910911,  110.11011011,  111.11111111,\n",
       "         112.11211211,  113.11311311,  114.11411411,  115.11511512,\n",
       "         116.11611612,  117.11711712,  118.11811812,  119.11911912,\n",
       "         120.12012012,  121.12112112,  122.12212212,  123.12312312,\n",
       "         124.12412412,  125.12512513,  126.12612613,  127.12712713,\n",
       "         128.12812813,  129.12912913,  130.13013013,  131.13113113,\n",
       "         132.13213213,  133.13313313,  134.13413413,  135.13513514,\n",
       "         136.13613614,  137.13713714,  138.13813814,  139.13913914,\n",
       "         140.14014014,  141.14114114,  142.14214214,  143.14314314,\n",
       "         144.14414414,  145.14514515,  146.14614615,  147.14714715,\n",
       "         148.14814815,  149.14914915,  150.15015015,  151.15115115,\n",
       "         152.15215215,  153.15315315,  154.15415415,  155.15515516,\n",
       "         156.15615616,  157.15715716,  158.15815816,  159.15915916,\n",
       "         160.16016016,  161.16116116,  162.16216216,  163.16316316,\n",
       "         164.16416416,  165.16516517,  166.16616617,  167.16716717,\n",
       "         168.16816817,  169.16916917,  170.17017017,  171.17117117,\n",
       "         172.17217217,  173.17317317,  174.17417417,  175.17517518,\n",
       "         176.17617618,  177.17717718,  178.17817818,  179.17917918,\n",
       "         180.18018018,  181.18118118,  182.18218218,  183.18318318,\n",
       "         184.18418418,  185.18518519,  186.18618619,  187.18718719,\n",
       "         188.18818819,  189.18918919,  190.19019019,  191.19119119,\n",
       "         192.19219219,  193.19319319,  194.19419419,  195.1951952 ,\n",
       "         196.1961962 ,  197.1971972 ,  198.1981982 ,  199.1991992 ,\n",
       "         200.2002002 ,  201.2012012 ,  202.2022022 ,  203.2032032 ,\n",
       "         204.2042042 ,  205.20520521,  206.20620621,  207.20720721,\n",
       "         208.20820821,  209.20920921,  210.21021021,  211.21121121,\n",
       "         212.21221221,  213.21321321,  214.21421421,  215.21521522,\n",
       "         216.21621622,  217.21721722,  218.21821822,  219.21921922,\n",
       "         220.22022022,  221.22122122,  222.22222222,  223.22322322,\n",
       "         224.22422422,  225.22522523,  226.22622623,  227.22722723,\n",
       "         228.22822823,  229.22922923,  230.23023023,  231.23123123,\n",
       "         232.23223223,  233.23323323,  234.23423423,  235.23523524,\n",
       "         236.23623624,  237.23723724,  238.23823824,  239.23923924,\n",
       "         240.24024024,  241.24124124,  242.24224224,  243.24324324,\n",
       "         244.24424424,  245.24524525,  246.24624625,  247.24724725,\n",
       "         248.24824825,  249.24924925,  250.25025025,  251.25125125,\n",
       "         252.25225225,  253.25325325,  254.25425425,  255.25525526,\n",
       "         256.25625626,  257.25725726,  258.25825826,  259.25925926,\n",
       "         260.26026026,  261.26126126,  262.26226226,  263.26326326,\n",
       "         264.26426426,  265.26526527,  266.26626627,  267.26726727,\n",
       "         268.26826827,  269.26926927,  270.27027027,  271.27127127,\n",
       "         272.27227227,  273.27327327,  274.27427427,  275.27527528,\n",
       "         276.27627628,  277.27727728,  278.27827828,  279.27927928,\n",
       "         280.28028028,  281.28128128,  282.28228228,  283.28328328,\n",
       "         284.28428428,  285.28528529,  286.28628629,  287.28728729,\n",
       "         288.28828829,  289.28928929,  290.29029029,  291.29129129,\n",
       "         292.29229229,  293.29329329,  294.29429429,  295.2952953 ,\n",
       "         296.2962963 ,  297.2972973 ,  298.2982983 ,  299.2992993 ,\n",
       "         300.3003003 ,  301.3013013 ,  302.3023023 ,  303.3033033 ,\n",
       "         304.3043043 ,  305.30530531,  306.30630631,  307.30730731,\n",
       "         308.30830831,  309.30930931,  310.31031031,  311.31131131,\n",
       "         312.31231231,  313.31331331,  314.31431431,  315.31531532,\n",
       "         316.31631632,  317.31731732,  318.31831832,  319.31931932,\n",
       "         320.32032032,  321.32132132,  322.32232232,  323.32332332,\n",
       "         324.32432432,  325.32532533,  326.32632633,  327.32732733,\n",
       "         328.32832833,  329.32932933,  330.33033033,  331.33133133,\n",
       "         332.33233233,  333.33333333,  334.33433433,  335.33533534,\n",
       "         336.33633634,  337.33733734,  338.33833834,  339.33933934,\n",
       "         340.34034034,  341.34134134,  342.34234234,  343.34334334,\n",
       "         344.34434434,  345.34534535,  346.34634635,  347.34734735,\n",
       "         348.34834835,  349.34934935,  350.35035035,  351.35135135,\n",
       "         352.35235235,  353.35335335,  354.35435435,  355.35535536,\n",
       "         356.35635636,  357.35735736,  358.35835836,  359.35935936,\n",
       "         360.36036036,  361.36136136,  362.36236236,  363.36336336,\n",
       "         364.36436436,  365.36536537,  366.36636637,  367.36736737,\n",
       "         368.36836837,  369.36936937,  370.37037037,  371.37137137,\n",
       "         372.37237237,  373.37337337,  374.37437437,  375.37537538,\n",
       "         376.37637638,  377.37737738,  378.37837838,  379.37937938,\n",
       "         380.38038038,  381.38138138,  382.38238238,  383.38338338,\n",
       "         384.38438438,  385.38538539,  386.38638639,  387.38738739,\n",
       "         388.38838839,  389.38938939,  390.39039039,  391.39139139,\n",
       "         392.39239239,  393.39339339,  394.39439439,  395.3953954 ,\n",
       "         396.3963964 ,  397.3973974 ,  398.3983984 ,  399.3993994 ,\n",
       "         400.4004004 ,  401.4014014 ,  402.4024024 ,  403.4034034 ,\n",
       "         404.4044044 ,  405.40540541,  406.40640641,  407.40740741,\n",
       "         408.40840841,  409.40940941,  410.41041041,  411.41141141,\n",
       "         412.41241241,  413.41341341,  414.41441441,  415.41541542,\n",
       "         416.41641642,  417.41741742,  418.41841842,  419.41941942,\n",
       "         420.42042042,  421.42142142,  422.42242242,  423.42342342,\n",
       "         424.42442442,  425.42542543,  426.42642643,  427.42742743,\n",
       "         428.42842843,  429.42942943,  430.43043043,  431.43143143,\n",
       "         432.43243243,  433.43343343,  434.43443443,  435.43543544,\n",
       "         436.43643644,  437.43743744,  438.43843844,  439.43943944,\n",
       "         440.44044044,  441.44144144,  442.44244244,  443.44344344,\n",
       "         444.44444444,  445.44544545,  446.44644645,  447.44744745,\n",
       "         448.44844845,  449.44944945,  450.45045045,  451.45145145,\n",
       "         452.45245245,  453.45345345,  454.45445445,  455.45545546,\n",
       "         456.45645646,  457.45745746,  458.45845846,  459.45945946,\n",
       "         460.46046046,  461.46146146,  462.46246246,  463.46346346,\n",
       "         464.46446446,  465.46546547,  466.46646647,  467.46746747,\n",
       "         468.46846847,  469.46946947,  470.47047047,  471.47147147,\n",
       "         472.47247247,  473.47347347,  474.47447447,  475.47547548,\n",
       "         476.47647648,  477.47747748,  478.47847848,  479.47947948,\n",
       "         480.48048048,  481.48148148,  482.48248248,  483.48348348,\n",
       "         484.48448448,  485.48548549,  486.48648649,  487.48748749,\n",
       "         488.48848849,  489.48948949,  490.49049049,  491.49149149,\n",
       "         492.49249249,  493.49349349,  494.49449449,  495.4954955 ,\n",
       "         496.4964965 ,  497.4974975 ,  498.4984985 ,  499.4994995 ,\n",
       "         500.5005005 ,  501.5015015 ,  502.5025025 ,  503.5035035 ,\n",
       "         504.5045045 ,  505.50550551,  506.50650651,  507.50750751,\n",
       "         508.50850851,  509.50950951,  510.51051051,  511.51151151,\n",
       "         512.51251251,  513.51351351,  514.51451451,  515.51551552,\n",
       "         516.51651652,  517.51751752,  518.51851852,  519.51951952,\n",
       "         520.52052052,  521.52152152,  522.52252252,  523.52352352,\n",
       "         524.52452452,  525.52552553,  526.52652653,  527.52752753,\n",
       "         528.52852853,  529.52952953,  530.53053053,  531.53153153,\n",
       "         532.53253253,  533.53353353,  534.53453453,  535.53553554,\n",
       "         536.53653654,  537.53753754,  538.53853854,  539.53953954,\n",
       "         540.54054054,  541.54154154,  542.54254254,  543.54354354,\n",
       "         544.54454454,  545.54554555,  546.54654655,  547.54754755,\n",
       "         548.54854855,  549.54954955,  550.55055055,  551.55155155,\n",
       "         552.55255255,  553.55355355,  554.55455455,  555.55555556,\n",
       "         556.55655656,  557.55755756,  558.55855856,  559.55955956,\n",
       "         560.56056056,  561.56156156,  562.56256256,  563.56356356,\n",
       "         564.56456456,  565.56556557,  566.56656657,  567.56756757,\n",
       "         568.56856857,  569.56956957,  570.57057057,  571.57157157,\n",
       "         572.57257257,  573.57357357,  574.57457457,  575.57557558,\n",
       "         576.57657658,  577.57757758,  578.57857858,  579.57957958,\n",
       "         580.58058058,  581.58158158,  582.58258258,  583.58358358,\n",
       "         584.58458458,  585.58558559,  586.58658659,  587.58758759,\n",
       "         588.58858859,  589.58958959,  590.59059059,  591.59159159,\n",
       "         592.59259259,  593.59359359,  594.59459459,  595.5955956 ,\n",
       "         596.5965966 ,  597.5975976 ,  598.5985986 ,  599.5995996 ,\n",
       "         600.6006006 ,  601.6016016 ,  602.6026026 ,  603.6036036 ,\n",
       "         604.6046046 ,  605.60560561,  606.60660661,  607.60760761,\n",
       "         608.60860861,  609.60960961,  610.61061061,  611.61161161,\n",
       "         612.61261261,  613.61361361,  614.61461461,  615.61561562,\n",
       "         616.61661662,  617.61761762,  618.61861862,  619.61961962,\n",
       "         620.62062062,  621.62162162,  622.62262262,  623.62362362,\n",
       "         624.62462462,  625.62562563,  626.62662663,  627.62762763,\n",
       "         628.62862863,  629.62962963,  630.63063063,  631.63163163,\n",
       "         632.63263263,  633.63363363,  634.63463463,  635.63563564,\n",
       "         636.63663664,  637.63763764,  638.63863864,  639.63963964,\n",
       "         640.64064064,  641.64164164,  642.64264264,  643.64364364,\n",
       "         644.64464464,  645.64564565,  646.64664665,  647.64764765,\n",
       "         648.64864865,  649.64964965,  650.65065065,  651.65165165,\n",
       "         652.65265265,  653.65365365,  654.65465465,  655.65565566,\n",
       "         656.65665666,  657.65765766,  658.65865866,  659.65965966,\n",
       "         660.66066066,  661.66166166,  662.66266266,  663.66366366,\n",
       "         664.66466466,  665.66566567,  666.66666667,  667.66766767,\n",
       "         668.66866867,  669.66966967,  670.67067067,  671.67167167,\n",
       "         672.67267267,  673.67367367,  674.67467467,  675.67567568,\n",
       "         676.67667668,  677.67767768,  678.67867868,  679.67967968,\n",
       "         680.68068068,  681.68168168,  682.68268268,  683.68368368,\n",
       "         684.68468468,  685.68568569,  686.68668669,  687.68768769,\n",
       "         688.68868869,  689.68968969,  690.69069069,  691.69169169,\n",
       "         692.69269269,  693.69369369,  694.69469469,  695.6956957 ,\n",
       "         696.6966967 ,  697.6976977 ,  698.6986987 ,  699.6996997 ,\n",
       "         700.7007007 ,  701.7017017 ,  702.7027027 ,  703.7037037 ,\n",
       "         704.7047047 ,  705.70570571,  706.70670671,  707.70770771,\n",
       "         708.70870871,  709.70970971,  710.71071071,  711.71171171,\n",
       "         712.71271271,  713.71371371,  714.71471471,  715.71571572,\n",
       "         716.71671672,  717.71771772,  718.71871872,  719.71971972,\n",
       "         720.72072072,  721.72172172,  722.72272272,  723.72372372,\n",
       "         724.72472472,  725.72572573,  726.72672673,  727.72772773,\n",
       "         728.72872873,  729.72972973,  730.73073073,  731.73173173,\n",
       "         732.73273273,  733.73373373,  734.73473473,  735.73573574,\n",
       "         736.73673674,  737.73773774,  738.73873874,  739.73973974,\n",
       "         740.74074074,  741.74174174,  742.74274274,  743.74374374,\n",
       "         744.74474474,  745.74574575,  746.74674675,  747.74774775,\n",
       "         748.74874875,  749.74974975,  750.75075075,  751.75175175,\n",
       "         752.75275275,  753.75375375,  754.75475475,  755.75575576,\n",
       "         756.75675676,  757.75775776,  758.75875876,  759.75975976,\n",
       "         760.76076076,  761.76176176,  762.76276276,  763.76376376,\n",
       "         764.76476476,  765.76576577,  766.76676677,  767.76776777,\n",
       "         768.76876877,  769.76976977,  770.77077077,  771.77177177,\n",
       "         772.77277277,  773.77377377,  774.77477477,  775.77577578,\n",
       "         776.77677678,  777.77777778,  778.77877878,  779.77977978,\n",
       "         780.78078078,  781.78178178,  782.78278278,  783.78378378,\n",
       "         784.78478478,  785.78578579,  786.78678679,  787.78778779,\n",
       "         788.78878879,  789.78978979,  790.79079079,  791.79179179,\n",
       "         792.79279279,  793.79379379,  794.79479479,  795.7957958 ,\n",
       "         796.7967968 ,  797.7977978 ,  798.7987988 ,  799.7997998 ,\n",
       "         800.8008008 ,  801.8018018 ,  802.8028028 ,  803.8038038 ,\n",
       "         804.8048048 ,  805.80580581,  806.80680681,  807.80780781,\n",
       "         808.80880881,  809.80980981,  810.81081081,  811.81181181,\n",
       "         812.81281281,  813.81381381,  814.81481481,  815.81581582,\n",
       "         816.81681682,  817.81781782,  818.81881882,  819.81981982,\n",
       "         820.82082082,  821.82182182,  822.82282282,  823.82382382,\n",
       "         824.82482482,  825.82582583,  826.82682683,  827.82782783,\n",
       "         828.82882883,  829.82982983,  830.83083083,  831.83183183,\n",
       "         832.83283283,  833.83383383,  834.83483483,  835.83583584,\n",
       "         836.83683684,  837.83783784,  838.83883884,  839.83983984,\n",
       "         840.84084084,  841.84184184,  842.84284284,  843.84384384,\n",
       "         844.84484484,  845.84584585,  846.84684685,  847.84784785,\n",
       "         848.84884885,  849.84984985,  850.85085085,  851.85185185,\n",
       "         852.85285285,  853.85385385,  854.85485485,  855.85585586,\n",
       "         856.85685686,  857.85785786,  858.85885886,  859.85985986,\n",
       "         860.86086086,  861.86186186,  862.86286286,  863.86386386,\n",
       "         864.86486486,  865.86586587,  866.86686687,  867.86786787,\n",
       "         868.86886887,  869.86986987,  870.87087087,  871.87187187,\n",
       "         872.87287287,  873.87387387,  874.87487487,  875.87587588,\n",
       "         876.87687688,  877.87787788,  878.87887888,  879.87987988,\n",
       "         880.88088088,  881.88188188,  882.88288288,  883.88388388,\n",
       "         884.88488488,  885.88588589,  886.88688689,  887.88788789,\n",
       "         888.88888889,  889.88988989,  890.89089089,  891.89189189,\n",
       "         892.89289289,  893.89389389,  894.89489489,  895.8958959 ,\n",
       "         896.8968969 ,  897.8978979 ,  898.8988989 ,  899.8998999 ,\n",
       "         900.9009009 ,  901.9019019 ,  902.9029029 ,  903.9039039 ,\n",
       "         904.9049049 ,  905.90590591,  906.90690691,  907.90790791,\n",
       "         908.90890891,  909.90990991,  910.91091091,  911.91191191,\n",
       "         912.91291291,  913.91391391,  914.91491491,  915.91591592,\n",
       "         916.91691692,  917.91791792,  918.91891892,  919.91991992,\n",
       "         920.92092092,  921.92192192,  922.92292292,  923.92392392,\n",
       "         924.92492492,  925.92592593,  926.92692693,  927.92792793,\n",
       "         928.92892893,  929.92992993,  930.93093093,  931.93193193,\n",
       "         932.93293293,  933.93393393,  934.93493493,  935.93593594,\n",
       "         936.93693694,  937.93793794,  938.93893894,  939.93993994,\n",
       "         940.94094094,  941.94194194,  942.94294294,  943.94394394,\n",
       "         944.94494494,  945.94594595,  946.94694695,  947.94794795,\n",
       "         948.94894895,  949.94994995,  950.95095095,  951.95195195,\n",
       "         952.95295295,  953.95395395,  954.95495495,  955.95595596,\n",
       "         956.95695696,  957.95795796,  958.95895896,  959.95995996,\n",
       "         960.96096096,  961.96196196,  962.96296296,  963.96396396,\n",
       "         964.96496496,  965.96596597,  966.96696697,  967.96796797,\n",
       "         968.96896897,  969.96996997,  970.97097097,  971.97197197,\n",
       "         972.97297297,  973.97397397,  974.97497497,  975.97597598,\n",
       "         976.97697698,  977.97797798,  978.97897898,  979.97997998,\n",
       "         980.98098098,  981.98198198,  982.98298298,  983.98398398,\n",
       "         984.98498498,  985.98598599,  986.98698699,  987.98798799,\n",
       "         988.98898899,  989.98998999,  990.99099099,  991.99199199,\n",
       "         992.99299299,  993.99399399,  994.99499499,  995.995996  ,\n",
       "         996.996997  ,  997.997998  ,  998.998999  , 1000.        ]),\n",
       " array([[  0.,   1.,   0., ..., -29., -30., -31.],\n",
       "        [  0.,   1.,   0., ..., -29., -28., -27.],\n",
       "        [  0.,   1.,   2., ...,  13.,  14.,  15.],\n",
       "        ...,\n",
       "        [  0.,   1.,   2., ...,  33.,  34.,  33.],\n",
       "        [  0.,   1.,   2., ...,  -9.,  -8.,  -9.],\n",
       "        [  0.,  -1.,  -2., ...,   9.,  10.,  11.]]))"
      ]
     },
     "execution_count": 224,
     "metadata": {},
     "output_type": "execute_result"
    }
   ],
   "source": [
    "#Sammenligning av kjøretid\n",
    "N_virrevandrere_raskere(1000,0.5,1000)\n",
    "N_virrevandrere_raskere(1000,0.5,1000)\n",
    "N_virrevandrere_raskere(1000,0.5,1000)\n",
    "N_virrevandrere_raskere(1000,0.5,1000)\n",
    "N_virrevandrere_raskere(1000,0.5,1000)\n",
    "\n",
    "N_virrevandrere(1000,0.5,1000)\n",
    "N_virrevandrere(1000,0.5,1000)\n",
    "N_virrevandrere(1000,0.5,1000)\n",
    "N_virrevandrere(1000,0.5,1000)\n",
    "N_virrevandrere(1000,0.5,1000)\n"
   ]
  },
  {
   "cell_type": "markdown",
   "id": "e23ca365",
   "metadata": {},
   "source": [
    "For et antall kjøringer vil i gjennomsnitt N_virrevandrere_raskere være raskere enn N_virrevandrere. \n",
    "Dette fordi while_loop kjører raskere enn for_loops, og cumsum() også gjør koden raskere. \n",
    "\n",
    "For et stort nummer N=1000 er det stort nok til å anta at denne gjennomsnitlig kodetidenen er et godt estimat for kjøretiden"
   ]
  },
  {
   "cell_type": "code",
   "execution_count": null,
   "id": "99f3ca3f",
   "metadata": {},
   "outputs": [],
   "source": []
  },
  {
   "cell_type": "code",
   "execution_count": 46,
   "id": "3a68e303",
   "metadata": {},
   "outputs": [
    {
     "name": "stdout",
     "output_type": "stream",
     "text": [
      "N_virrevandrere bruker 0.0296 sekunder\n"
     ]
    },
    {
     "data": {
      "image/png": "[encoded data removed]",
      "text/plain": [
       "<Figure size 432x288 with 1 Axes>"
      ]
     },
     "metadata": {
      "needs_background": "light"
     },
     "output_type": "display_data"
    }
   ],
   "source": [
    "from scipy.optimize import curve_fit \n",
    "#trenger denne bare for denne oppgaven og importer da heller den i denne oppgaven istedenfor på toppen, dette sparer tid\n",
    "\n",
    "#henter variabler som kan være globale for alle funksjonskall for denne oppgaven.\n",
    "N = 1000\n",
    "M = 1000\n",
    "pr = 0.5\n",
    "#henter tid og posisjon fra virrevandreroppgaven, med de tilfeldige bevegelsene\n",
    "tid, posisjon = N_virrevandrere(M,pr,N) #\n",
    "\n",
    "def emp_var(posisjon,N,M): #definerer en funksjon empirisk varians\n",
    "    posisjon_trans = posisjon.transpose() #transponerer arrayet\n",
    "    emp_var = np.zeros(M) #lager et tomt array\n",
    "    for i in range(0,M):\n",
    "        emp_var[i] = np.var(posisjon_trans[i]) #fyller inn arrayet med de transponerte verdiene\n",
    "    return emp_var\n",
    "\n",
    "emp_var = emp_var(posisjon,N,M) #returnerer funksjonen sånn det kan plottes\n",
    "\n",
    "def func(x,a,b):\n",
    "    #Oppretter en rett linje til sammenligning med den empiriske variansen\n",
    "    return x*a + b\n",
    "\n",
    "\n",
    "popt, pcov = curve_fit(func, tid, emp_var) #curve_fit finner den mest optimale linja for dem\n",
    "plt.plot(tid,func(tid,*popt))\n",
    "\n",
    "plt.plot(tid,emp_var)\n",
    "plt.show() #viser dem begge i samme bilde\n"
   ]
  },
  {
   "cell_type": "markdown",
   "id": "6da6a44d",
   "metadata": {},
   "source": [
    "Den blå linja viser func() og representerer en standard rett linje x=y og den oransje linja viser curve_fit.\n",
    "\n",
    "Vi kan se at selv om variansen varierer opp og ned\n",
    "så ser vi at stigningstallet følger godt den rette linja. Som vil si at variansen ikke varierer stort. Dette stemmer godt med at den skal følge en funksjon som varierer 50/50, og dermed vil i teorien ta annenhver gang høyre/venstre og da i prinsippet ikke ha stor varians, med mindre sansynligheten endrer seg opp eller ned ifra 0.5\n",
    "og plottet til en rett linje(oransj). Som vil si at siden linjene er såpass like så er stigningstallet det samme.\n",
    "\n",
    "Stigningstallet til x=y er rett og slett 1, og dermed blir stigningstallet til den empiriske variansen = 1"
   ]
  },
  {
   "cell_type": "markdown",
   "id": "30a4a782",
   "metadata": {},
   "source": [
    "Svaret fra oppgave 1a var todelt, det ene svaret var 1, som da stemmer veldig godt med den nummeriske løsningen. \n",
    "Løsning nummer to var ikke like godt i samsvar med nummerisk løsning. \n",
    "\n",
    "Om man skulle gjentatt forsøket ville en økning i N gi en mer og mer nøyaktig løsning. Økes antall virrevandrere, minker sansynlighet for avvik fra den teoretiske vedien 1. Men for en økning i antall tidsteg, vil det bare gi flere målinger av de \"samme\" virrevandrerne.\n",
    "\n",
    "Tar man 10 virrevandrere og 1000 tidsteg, vil det være stor sansynlighet for at vandrerne har avvik og grafen vil ha et stigningstall som ikke ligner den teoretiske.\n",
    "Gjør man motsatt, og tar 10 tidsteg men 1000 virrevandrere vil dette gi tilnærmet lik den teoretiske x=y linja."
   ]
  },
  {
   "cell_type": "code",
   "execution_count": 47,
   "id": "65556118",
   "metadata": {},
   "outputs": [
    {
     "name": "stdout",
     "output_type": "stream",
     "text": [
      "N_virrevandrere_2D bruker 0.0317 sekunder\n",
      "N_virrevandrere_2D bruker 0.0391 sekunder\n",
      "N_virrevandrere_2D bruker 0.0416 sekunder\n"
     ]
    },
    {
     "data": {
      "image/png": "[encoded data removed]",
      "text/plain": [
       "<Figure size 432x288 with 1 Axes>"
      ]
     },
     "metadata": {
      "needs_background": "light"
     },
     "output_type": "display_data"
    }
   ],
   "source": [
    "##Oppgave 1g\n",
    "def N_virrevandrere_2D(M,pr,N):\n",
    "    #oppretter to tomme arrays med samme dimensjon, \n",
    "    pos_x = np.zeros((N,M))\n",
    "    pos_y = np.zeros((N,M))\n",
    "    tid = np.linspace(0, 1, M)\n",
    "    \"\"\"\n",
    "    For todimensjonale vandrere vil koden se ganske lik ut,\n",
    "    men den må gjøre samme opperasjon som i tidligere oppgaver for både vertikal \n",
    "    og horisontal bevegelse.\n",
    "    Først vil den sjekke om den skal gå vertikalt eller horisontalt. \n",
    "    Deretter sjekke om den skal til høyre eller venstre.\n",
    "    \"\"\"\n",
    "    for i in range(0,N): \n",
    "        #lager to nye lister med tilfeldigetall.\n",
    "        TilfeldigeTall1 = np.random.uniform(0,1,M)\n",
    "        TilfeldigeTall2 = np.random.uniform(0,1,M)\n",
    "\n",
    "        for j in range (1,M): #sjekker for hver bevegelse om det tilfeldigetallet er mindre eller større(standard bevegelsen)\n",
    "            #sjekker om bevegelsen er vertikal eller horisontal \n",
    "            if TilfeldigeTall1[j] < pr:        \n",
    "                #sjekker om den skal gå til høyre eller venstre langs x_aksen\n",
    "                if TilfeldigeTall2[j] < pr: \n",
    "                    pos_x[i][j] = pos_x[i][j-1] + dx\n",
    "                    pos_y[i][j] = pos_y[i][j-1]\n",
    "                else:\n",
    "                    pos_x[i][j] = pos_x[i][j-1] - dx\n",
    "                    pos_y[i][j] = pos_y[i][j-1]\n",
    "\n",
    "            else: \n",
    "                #sjekker om den skal gå til høyre eller venstre langs y_aksen\n",
    "                if TilfeldigeTall2[j] < pr:\n",
    "                    pos_y[i][j] = pos_y[i][j-1] + dx\n",
    "                    pos_x[i][j] = pos_x[i][j-1]\n",
    "                    \n",
    "                else:\n",
    "                    pos_y[i][j] = pos_y[i][j-1] - dx\n",
    "                    pos_x[i][j] = pos_x[i][j-1]\n",
    "\n",
    "    print(\"N_virrevandrere_2D bruker\",round(timeit.timeit(),4),\"sekunder\")\n",
    "    return tid, pos_x, pos_y\n",
    "\n",
    "tid, pos_x,pos_y = N_virrevandrere_2D(1000,0.5,10)\n",
    "tid, pos_x1,pos_y1 = N_virrevandrere_2D(1000,0.30,10)\n",
    "tid, pos_x2,pos_y2 = N_virrevandrere_2D(1000,0.60,10)\n",
    "\n",
    "#Plotter for to virrevandrere ved p=0.5\n",
    "plt.plot(pos_x[0],pos_y[0],label=\"p=0.5\")\n",
    "plt.plot(pos_x[1],pos_y[1])\n",
    "#Plotter for to virrevandrere ved p=0.45\n",
    "plt.plot(pos_x1[0],pos_y1[0],label=\"p=0.45\")\n",
    "plt.plot(pos_x1[1],pos_y1[1])\n",
    "#plotter for to virrevandrere ved p=0.55\n",
    "plt.plot(pos_x2[0],pos_y2[0],label=\"p=0.55\")\n",
    "plt.plot(pos_x2[1],pos_y2[1])\n",
    "plt.legend()\n",
    "plt.show()"
   ]
  },
  {
   "cell_type": "markdown",
   "id": "aeb7f6c0",
   "metadata": {},
   "source": [
    "Figuren viser 6 forskjellige vandrere, hvor to og to har samme sansynlighet.\n",
    "\n",
    "For p=0.50; vil de bevege seg som tidlgiere, tilfeldig opp og ned rundt x=0,y=0.\\  \n",
    "For p=0.45; ser man at de er på vei nedover mot venstre.\\  \n",
    "For p=0.55; kan man se at de beveger seg motsatt av 0.45, altså i oppover høyre retning.\n",
    "\n",
    "Ved å øke sansnylighetene enda mer vil figuren bli tilnærmet lik to rette streker og det er dermed tydelig at figuren og virrevandrerne går mot isotropisk. Dette vil også si at dersom betingelsene for x og y, bevegelsen for virrevandrernene endres, vil uansett virrevandrerne bevege seg på lik måte, men i andre retninger."
   ]
  },
  {
   "cell_type": "code",
   "execution_count": 311,
   "id": "15e80941",
   "metadata": {},
   "outputs": [
    {
     "name": "stdout",
     "output_type": "stream",
     "text": [
      "N_virrevandrere bruker 0.0354 sekunder\n",
      "N_virrevandrere_2D bruker 0.0317 sekunder\n",
      "For 100 endimensjonale bevegelser returnerer virrevandrerne til origo:  799  ganger\n",
      "For 100 todimensjonale bevegelser returnerer virrevandrerne til origo:  246  ganger\n",
      "Koden bruker 0.0324 sekunder\n"
     ]
    },
    {
     "data": {
      "text/plain": [
       "'\\nplt.plot(tid,pos,color = \"Green\")\\nplt.title(\"1D\")\\nplt.plot(tid,np.zeros(len(tid)))\\nplt.show()\\nplt.plot(pos_x[0],pos_y[0],color = \"Red\")\\nplt.title(\"2D\")\\nplt.show()'"
      ]
     },
     "execution_count": 311,
     "metadata": {},
     "output_type": "execute_result"
    }
   ],
   "source": [
    "#Oppgave 1h\n",
    "M=100\n",
    "N=100\n",
    "tid, pos = N_virrevandrere(M,0.5,N)  #henter en-dimensjonale posisjoner\n",
    "def n1(M,pos):                       #sjekker for èn dimensjon\n",
    "    ganger_i_origo = 0\n",
    "    for j in range(0,N):\n",
    "        for i in range(0,M):             #sjekker om pos[i] noen gang treffer 0, hvis den gjør det, så har den vært innom origo\n",
    "            if pos[j][i] == 0: \n",
    "                ganger_i_origo += 1\n",
    "    return ganger_i_origo\n",
    "\n",
    "\n",
    "tid, pos_x,pos_y = N_virrevandrere_2D(M,0.5,N) #henter to dimensjonale posisjoner\n",
    "\n",
    "def n2(M,pos_x,pos_y):           #sjekker for 2 dimensjoner\n",
    "    ganger_i_origo = 0\n",
    "    for j in range(0,N):\n",
    "        for i in range(0,M):\n",
    "            if pos_x[j][i] == 0 and pos_y[j][i] == 0:\n",
    "\n",
    "                # Denne må sjekke om pos_x og pos_y blir 0 samtidig, da er de i origo og da legges det til i ganger_i_origo\n",
    "                ganger_i_origo += 1\n",
    "            \n",
    "    return ganger_i_origo\n",
    "\n",
    "print(\"For\",M,\"endimensjonale bevegelser returnerer virrevandrerne til origo: \",n1(M,pos),\" ganger\")\n",
    "print(\"For\",M,\"todimensjonale bevegelser returnerer virrevandrerne til origo: \",n2(M,pos_x,pos_y),\" ganger\")\n",
    "print(\"Koden bruker\",round(timeit.timeit(),4),\"sekunder\")\n",
    "\"\"\"\n",
    "plt.plot(tid,pos,color = \"Green\")\n",
    "plt.title(\"1D\")\n",
    "plt.plot(tid,np.zeros(len(tid)))\n",
    "plt.show()\n",
    "plt.plot(pos_x[0],pos_y[0],color = \"Red\")\n",
    "plt.title(\"2D\")\n",
    "plt.show()\"\"\""
   ]
  },
  {
   "cell_type": "markdown",
   "id": "c6789768",
   "metadata": {},
   "source": [
    "Figurene viser bevegelsen til virrevandreren. Med en linje i 0 for den endimensjonale grafen, sånn at det er lettere å se høyre/venstre bevegelse fra origo.\n",
    "\n",
    "2D figurren ser også ut til å stemme bra med antall ganger i origo, her vil det være langt færre punkter, ettersom det er mye lavere sansynlighet for å returnere tilbake i et punkt, istedenfor en linje.\n",
    "Gjør rede for valget av M og N. \n",
    "Drøft hvordan disse variablene påvirker n(M)\n",
    "\n",
    "Analytisk løsning for 1D:\\\n",
    "p(x=0,t=1) gir 0 fordi, hvis startpos er 0 kan den ikke komme tilbake til 0 på et steg.\\\n",
    "p(x=0,t=2) = 0.5 fordi valget er uavhengig av det første steget, og dermed må p = 0.5.\\\n",
    "Analytisk løsning for 2D:\\\n",
    "p(x=0,t=1) gir 0, samme argument\\\n",
    "p(x=0,t=2) vil gi 0.25, fordi det er 4 veier å gå for hver gang, og vært valg er uavhengig.\\\n",
    "\n",
    "For store verdier av N vil både 1D og 2D være mye i origo, men for større verdier av M er det den 1dimensjonale som nyter best fra det, og vil øke mye mer enn 2D. For økning av tidsteg vil mest sansynlig 2D bevege seg lengre og lengre bort og sansynligheten for å komme tilbake igjen til origo blir mindre. Men for flere og flere N vil det være flere muligheter for at bevegelsene tar turen innom origo.\n",
    "For økning av M øker 1D med 5-10 ganger så mye som 2D, men for økning av N vil forholdet være litt under 2.\n",
    "\n",
    "Så for å finne de mest gunstige tallene er en litt stor N og M fint. Feks 100,100 fungerer bra, da passer det også utmerket for å plotte. Evnt kan man også bruke 50,40 hvis man vil ha litt mindre tall."
   ]
  },
  {
   "cell_type": "code",
   "execution_count": 37,
   "id": "e1e982c3",
   "metadata": {},
   "outputs": [
    {
     "name": "stdout",
     "output_type": "stream",
     "text": [
      "Virre_bevegelse_ubundet bruker 0.0308 sekunder\n"
     ]
    }
   ],
   "source": [
    "#Oppgave 2b\n",
    "\n",
    "def Virre_bevegelse_ubundet(M,pr,N): #virrebevegelse uten bunde vegger= N_virevandrer2D?\n",
    "    dx = 10\n",
    "    pos_x = np.zeros((N,M))\n",
    "    pos_y = np.zeros((N,M))\n",
    "    tid = np.linspace(0, 1, M)\n",
    "    \n",
    "    for i in range(0,N):\n",
    "        TilfeldigeTall1 = np.random.uniform(0,1,M)\n",
    "        TilfeldigeTall2 = np.random.uniform(0,1,M)\n",
    "\n",
    "        for j in range (1,M):\n",
    "            if TilfeldigeTall1[j] < pr:\n",
    "\n",
    "                if TilfeldigeTall2[j] < pr:\n",
    "                    pos_x[i][j] = pos_x[i][j-1] + dx\n",
    "                    pos_y[i][j] = pos_y[i][j-1]\n",
    "                else:\n",
    "                    pos_x[i][j] = pos_x[i][j-1] - dx\n",
    "                    pos_y[i][j] = pos_y[i][j-1]\n",
    "\n",
    "            else: \n",
    "                if TilfeldigeTall2[j] < pr:\n",
    "                    pos_y[i][j] = pos_y[i][j-1] + dx\n",
    "                    pos_x[i][j] = pos_x[i][j-1]\n",
    "                    \n",
    "                else:\n",
    "                    pos_y[i][j] = pos_y[i][j-1] - dx\n",
    "                    pos_x[i][j] = pos_x[i][j-1]\n",
    "\n",
    "    print(\"Virre_bevegelse_ubundet bruker\",round(timeit.timeit(),4),\"sekunder\")\n",
    "    return tid, pos_x, pos_y\n",
    "\n",
    "\n",
    "tid, pos_x,pos_y = Virre_bevegelse_ubundet(100,0.5,1)\n"
   ]
  },
  {
   "cell_type": "code",
   "execution_count": null,
   "id": "b9fcdc97",
   "metadata": {},
   "outputs": [],
   "source": []
  },
  {
   "cell_type": "code",
   "execution_count": null,
   "id": "5ba43b72",
   "metadata": {},
   "outputs": [],
   "source": []
  },
  {
   "cell_type": "code",
   "execution_count": 315,
   "id": "3f8cf563",
   "metadata": {},
   "outputs": [],
   "source": [
    "#Oppgave 2b\n",
    "#Definerer først en funksjon som holder vandrerne innenfor grid'et\n",
    "dX=1\n",
    "def Virre_bevegelse_bundet(M,pr,N): #virrebevegelse med bundet vegger\n",
    "    endre_variabel1(0.1,1)\n",
    "    pos_x = np.zeros((N,M))\n",
    "    pos_y = np.zeros((N,M))\n",
    "    tid   = np.linspace(0, 1, M)\n",
    "    \n",
    "    \"\"\"\n",
    "    Denne oppaven handler om at vi nå skal begrense vandrerne\n",
    "    til å holde seg innenfor det vi har satt som grenseområdet.\n",
    "    Grensene vil være 0-100 i både x og y retning. Dermed \n",
    "    må vi lage en funksjon som sjekker hvor vandrerne er\n",
    "    og stoppe opp om de ville ha truffet enten 0, eller 100.\n",
    "    \n",
    "    Dermed for denne koden, bruker vi standardkoden for vandrerne,\n",
    "    men legger på en ekstra if setning.\n",
    "    \"\"\"\n",
    "    for i in range(0,N):\n",
    "        TilfeldigeTall1 = np.random.uniform(0,1,M)\n",
    "        TilfeldigeTall2 = np.random.uniform(0,1,M)\n",
    "        for j in range (1,M):\n",
    "            if TilfeldigeTall1[j] < pr:\n",
    "                if TilfeldigeTall2[j] < pr:             \n",
    "                    if pos_x[i][j-1] >= 100: #Sjekker grensebetingelse 1, hvis x_pos blir 100, så må den bli stående.\n",
    "                        dx = -dX\n",
    "                    else:\n",
    "                        dx = dX\n",
    "                    pos_x[i][j] = pos_x[i][j-1] + dx\n",
    "                    pos_y[i][j] = pos_y[i][j-1]\n",
    "                else:               \n",
    "                    if pos_x[i][j-1] <= 0: #Sjekker grensebetingelse 2, når pos_x=0, da må den også bli stående\n",
    "                        dx = -dX\n",
    "                    else:\n",
    "                        dx = dX\n",
    "                    pos_x[i][j] = pos_x[i][j-1] - dx\n",
    "                    pos_y[i][j] = pos_y[i][j-1]\n",
    "            else:      \n",
    "                if TilfeldigeTall2[j] < pr:            \n",
    "                    if pos_y[i][j-1] >= 100: #Sjekker grensebetingelse 1: pos_y=100 for y\n",
    "                        dx = -dX\n",
    "                    else:\n",
    "                        dx = dX\n",
    "                    pos_y[i][j] = pos_y[i][j-1] + dx\n",
    "                    pos_x[i][j] = pos_x[i][j-1]\n",
    "                else:                \n",
    "                    if pos_y[i][j-1] <= 0: #Sjekker grensebetingelse 2: pos_y=0 for y\n",
    "                        dx = -dX\n",
    "                    else:\n",
    "                        dx = dX\n",
    "                    pos_y[i][j] = pos_y[i][j-1] - dx\n",
    "                    pos_x[i][j] = pos_x[i][j-1]\n",
    "    print(\"Virre_bevegelse_bundet bruker\",round(timeit.timeit(),4),\"sekunder\")\n",
    "    return tid, pos_x, pos_y"
   ]
  },
  {
   "cell_type": "code",
   "execution_count": 316,
   "id": "f2a7577f",
   "metadata": {},
   "outputs": [],
   "source": [
    "\"\"\"\n",
    "Definerer en funksjon tumor() som eneste oppgave er å lage to lister med tilfeldig plaserte sentrum.\n",
    "x_pos[0],y_pos[0] vil være et sentrum feks. Dette vil da være sentrumet til de tumorene som kalles på\n",
    "\"\"\"\n",
    "def tumor(L,m):\n",
    "    x_pos =  np.random.uniform(0, L, m)\n",
    "    y_pos =  np.random.uniform(0, L, m)\n",
    "    return x_pos, y_pos"
   ]
  },
  {
   "cell_type": "code",
   "execution_count": 327,
   "id": "f52faf0a",
   "metadata": {},
   "outputs": [],
   "source": []
  },
  {
   "cell_type": "code",
   "execution_count": null,
   "id": "a6334a66",
   "metadata": {},
   "outputs": [],
   "source": []
  },
  {
   "cell_type": "code",
   "execution_count": 368,
   "id": "5941eb58",
   "metadata": {},
   "outputs": [
    {
     "name": "stdout",
     "output_type": "stream",
     "text": [
      "Virrevandrer_i_tumor_med_redusert_fart bruker 0.0509 sekunder\n"
     ]
    },
    {
     "data": {
      "image/png": "[encoded data removed]",
      "text/plain": [
       "<Figure size 432x288 with 1 Axes>"
      ]
     },
     "metadata": {
      "needs_background": "light"
     },
     "output_type": "display_data"
    },
    {
     "data": {
      "image/png": "[encoded data removed]",
      "text/plain": [
       "<Figure size 432x288 with 1 Axes>"
      ]
     },
     "metadata": {
      "needs_background": "light"
     },
     "output_type": "display_data"
    }
   ],
   "source": [
    "#Dermed slår vi alle funksjonene sammen til funksjonen vi trenger for å løse oppgaven\n",
    "\n",
    "dX=1\n",
    "n=100\n",
    "r=0.002\n",
    "L=0.02\n",
    "m=15\n",
    "t_k=0.1\n",
    "\"\"\" Variabler:\n",
    "\n",
    "    L   = 0.02\n",
    "    m   = 15\n",
    "    r   = 0.002\n",
    "    t_k = 0.1\n",
    "    M   = 500 \n",
    "\"\"\"\n",
    "def virrevandrer_i_tumor_med_redusert_fart(M,pr,N,t_k,a,n,r):\n",
    "    \n",
    "    pos_x = np.zeros((N,M))\n",
    "    pos_y = np.zeros((N,M))\n",
    "    tid   = np.linspace(0, 1, M)\n",
    "\n",
    "    for i in range(0,N):\n",
    "        TilfeldigeTall1 = np.random.uniform(0,1,M)\n",
    "        TilfeldigeTall2 = np.random.uniform(0,1,M)\n",
    "        pos_x[i][0] = np.random.randint(0,M)\n",
    "        pos_y[i][0] = np.random.randint(0,M)\n",
    "        for j in range (1,M):\n",
    "            if TilfeldigeTall1[j] < pr:\n",
    "                if TilfeldigeTall2[j] < pr:\n",
    "                    if abs(pos_x[i][j-1] - 100) <= 10:\n",
    "                        dx = -a[int(pos_x[i][j-1]*n/M)-1][int(pos_y[i][j-1]*n/M)-1]\n",
    "                    else:\n",
    "                        dx = a[int(pos_x[i][j-1]*n/M)-1][int(pos_y[i][j-1]*n/M)-1]\n",
    "                    pos_x[i][j] = pos_x[i][j-1] + dx*10\n",
    "                    pos_y[i][j] = pos_y[i][j-1]\n",
    "                else:               \n",
    "                    if abs(pos_x[i][j-1]) <= 10:\n",
    "                        dx = -a[int(pos_x[i][j-1]*n/M)-1][int(pos_y[i][j-1]*n/M)-1]\n",
    "                    else:\n",
    "                        dx = a[int(pos_x[i][j-1]*n/M)-1][int(pos_y[i][j-1]*n/M)-1]\n",
    "                    pos_x[i][j] = pos_x[i][j-1] - dx*10\n",
    "                    pos_y[i][j] = pos_y[i][j-1]\n",
    "            else:            \n",
    "                if TilfeldigeTall2[j] < pr:\n",
    "                                    \n",
    "                    if abs(pos_y[i][j-1]-100) <= 10:\n",
    "                        dx = -a[int(pos_x[i][j-1]*n/M)-1][int(pos_y[i][j-1]*n/M)-1]\n",
    "                    else:\n",
    "                        dx = a[int(pos_x[i][j-1]*n/M)-1][int(pos_y[i][j-1]*n/M)-1]\n",
    "                    pos_y[i][j] = pos_y[i][j-1] + dx*10\n",
    "                    pos_x[i][j] = pos_x[i][j-1]\n",
    "                else:                   \n",
    "                    if abs(pos_y[i][j-1]) <=10 :\n",
    "                        dx = -a[int(pos_x[i][j-1]*n/M)-1][int(pos_y[i][j-1]*n/M)-1] \n",
    "                    else:\n",
    "                        dx = a[int(pos_x[i][j-1]*n/M)-1][int(pos_y[i][j-1]*n/M)-1]\n",
    "                    \n",
    "                    pos_y[i][j] = pos_y[i][j-1] - dx*10\n",
    "                    pos_x[i][j] = pos_x[i][j-1]\n",
    "    print(\"Virrevandrer_i_tumor_med_redusert_fart bruker\",round(timeit.timeit(),4),\"sekunder\")\n",
    "    return tid, pos_x, pos_y\n",
    "\n",
    "x_pos, y_pos = tumor(L,m)                         #Henter posisjonene til tumoren \n",
    "#lag funksjon av dette\n",
    "x = np.linspace(0,L,M) \n",
    "y = np.linspace(0,L,M)\n",
    "a = np.full((M,M),dx,dtype=float)                  #lager en matrise\n",
    "\n",
    "grid = np.meshgrid(x,y)                                #lager et sammenslått grid av x og y\n",
    "xx,yy=grid\n",
    "\n",
    "for i in range(m):\n",
    "    under_rot = (xx - x_pos[i])**2+(yy - y_pos[i])**2     #lager en variabel under_rot, sånn at a ser penere ut\n",
    "    a *= np.where(np.sqrt(under_rot) <= r,np.sqrt(t_k),1) \n",
    "\n",
    "    #Np.where finner alle tumor-sentrum og endrer verdien til posisjonen i punktet til t_k\n",
    "    #der den ikke finner sentrum, endrer den verdien til den gitte posisjonen til 1\n",
    "\n",
    "\n",
    "\n",
    "\n",
    "tid, pos_x,pos_y = virrevandrer_i_tumor_med_redusert_fart(100,0.5,3,0.2,a,n,r)\n",
    "\n",
    "plt.pcolormesh(a)\n",
    "plt.xlim(0,n)\n",
    "plt.ylim(0,n)\n",
    "plt.plot(pos_x[0],pos_y[0])#finner plottet virrevandrere\n",
    "plt.show()\n",
    "    \n",
    "plt.plot(pos_x[0],pos_y[0])#finner plottet virrevandrere\n",
    "plt.show()"
   ]
  },
  {
   "cell_type": "code",
   "execution_count": 367,
   "id": "238961f8",
   "metadata": {},
   "outputs": [
    {
     "name": "stdout",
     "output_type": "stream",
     "text": [
      "Virre_bevegelse_ubundet bruker 0.034 sekunder\n",
      "Virre_bevegelse_bundet bruker 0.0259 sekunder\n",
      "Virre_bevegelse_ubundet bruker 0.0333 sekunder\n",
      "Virre_bevegelse_bundet bruker 0.0259 sekunder\n",
      "virrevandrer_i_tumor bruker 0.0263 sekunder\n"
     ]
    },
    {
     "ename": "TypeError",
     "evalue": "virrevandrer_i_tumor_med_redusert_fart() missing 1 required positional argument: 'r'",
     "output_type": "error",
     "traceback": [
      "\u001b[1;31m---------------------------------------------------------------------------\u001b[0m",
      "\u001b[1;31mTypeError\u001b[0m                                 Traceback (most recent call last)",
      "\u001b[1;32m<ipython-input-367-c9f37444aee3>\u001b[0m in \u001b[0;36m<module>\u001b[1;34m\u001b[0m\n\u001b[0;32m     18\u001b[0m     \u001b[0mplt\u001b[0m\u001b[1;33m.\u001b[0m\u001b[0mplot\u001b[0m\u001b[1;33m(\u001b[0m\u001b[0mx_pos\u001b[0m\u001b[1;33m[\u001b[0m\u001b[1;36m0\u001b[0m\u001b[1;33m]\u001b[0m\u001b[1;33m,\u001b[0m\u001b[0my_pos\u001b[0m\u001b[1;33m[\u001b[0m\u001b[1;36m0\u001b[0m\u001b[1;33m]\u001b[0m\u001b[1;33m)\u001b[0m\u001b[1;31m#plotter virrevandrere alene bare for å tydelig ser bevegelsen\u001b[0m\u001b[1;33m\u001b[0m\u001b[1;33m\u001b[0m\u001b[0m\n\u001b[0;32m     19\u001b[0m     \u001b[0mplt\u001b[0m\u001b[1;33m.\u001b[0m\u001b[0mshow\u001b[0m\u001b[1;33m(\u001b[0m\u001b[1;33m)\u001b[0m\u001b[1;33m\u001b[0m\u001b[1;33m\u001b[0m\u001b[0m\n\u001b[1;32m---> 20\u001b[1;33m \u001b[0mplotter\u001b[0m\u001b[1;33m(\u001b[0m\u001b[1;33m)\u001b[0m\u001b[1;33m\u001b[0m\u001b[1;33m\u001b[0m\u001b[0m\n\u001b[0m",
      "\u001b[1;32m<ipython-input-367-c9f37444aee3>\u001b[0m in \u001b[0;36mplotter\u001b[1;34m()\u001b[0m\n\u001b[0;32m      3\u001b[0m     \u001b[0mtid2\u001b[0m\u001b[1;33m,\u001b[0m\u001b[0mpos_x2\u001b[0m\u001b[1;33m,\u001b[0m \u001b[0mpos_y2\u001b[0m \u001b[1;33m=\u001b[0m \u001b[0mVirre_bevegelse_bundet\u001b[0m\u001b[1;33m(\u001b[0m\u001b[0mM\u001b[0m\u001b[1;33m,\u001b[0m\u001b[1;36m0.5\u001b[0m\u001b[1;33m,\u001b[0m\u001b[0mN\u001b[0m\u001b[1;33m)\u001b[0m\u001b[1;33m\u001b[0m\u001b[1;33m\u001b[0m\u001b[0m\n\u001b[0;32m      4\u001b[0m     \u001b[0mvirrevandrer_i_tumor\u001b[0m\u001b[1;33m(\u001b[0m\u001b[1;36m0.02\u001b[0m\u001b[1;33m,\u001b[0m\u001b[1;36m15\u001b[0m\u001b[1;33m,\u001b[0m\u001b[1;36m1\u001b[0m\u001b[1;33m,\u001b[0m\u001b[1;36m0.1\u001b[0m\u001b[1;33m,\u001b[0m\u001b[1;36m500\u001b[0m\u001b[1;33m,\u001b[0m\u001b[1;36m1000\u001b[0m\u001b[1;33m)\u001b[0m\u001b[1;33m\u001b[0m\u001b[1;33m\u001b[0m\u001b[0m\n\u001b[1;32m----> 5\u001b[1;33m     \u001b[0mtid3\u001b[0m\u001b[1;33m,\u001b[0m \u001b[0mpos_x3\u001b[0m\u001b[1;33m,\u001b[0m\u001b[0mpos_y3\u001b[0m \u001b[1;33m=\u001b[0m \u001b[0mvirrevandrer_i_tumor_med_redusert_fart\u001b[0m\u001b[1;33m(\u001b[0m\u001b[1;36m100\u001b[0m\u001b[1;33m,\u001b[0m\u001b[1;36m0.5\u001b[0m\u001b[1;33m,\u001b[0m\u001b[1;36m1\u001b[0m\u001b[1;33m,\u001b[0m\u001b[1;36m0.1\u001b[0m\u001b[1;33m,\u001b[0m\u001b[0ma\u001b[0m\u001b[1;33m,\u001b[0m\u001b[0mn\u001b[0m\u001b[1;33m)\u001b[0m\u001b[1;33m\u001b[0m\u001b[1;33m\u001b[0m\u001b[0m\n\u001b[0m\u001b[0;32m      6\u001b[0m \u001b[1;33m\u001b[0m\u001b[0m\n\u001b[0;32m      7\u001b[0m \u001b[1;33m\u001b[0m\u001b[0m\n",
      "\u001b[1;31mTypeError\u001b[0m: virrevandrer_i_tumor_med_redusert_fart() missing 1 required positional argument: 'r'"
     ]
    }
   ],
   "source": [
    "def plotter():\n",
    "    tid1,pos_x1, pos_y1 = Virre_bevegelse_ubundet(M,0.5,N)\n",
    "    tid2,pos_x2, pos_y2 = Virre_bevegelse_bundet(M,0.5,N)\n",
    "    virrevandrer_i_tumor(0.02,15,1,0.1,500,1000)\n",
    "    tid3, pos_x3,pos_y3 = virrevandrer_i_tumor_med_redusert_fart(100,0.5,1,0.1,a,n)\n",
    "\n",
    "\n",
    "    plt.pcolormesh(a)   #Denne viser frem grid og rutenettet på en slik måte at der a er sentrum vil det \n",
    "                        #dannes en kule med radius r rundt sentrum av tumor med en annen farge enn bakgrunnen\n",
    "    plt.xlim(0,100)\n",
    "    plt.ylim(0,100)\n",
    "    plt.plot(pos_x1[0],pos_y1[0])\n",
    "    plt.show()\n",
    "    plt.plot(pos_x2[0],pos_y2[0])\n",
    "    plt.show()\n",
    "    plt.plot(pos_x3[0],pos_y3[0])\n",
    "    plt.show()\n",
    "    plt.plot(x_pos[0],y_pos[0])#plotter virrevandrere alene bare for å tydelig ser bevegelsen\n",
    "    plt.show()\n",
    "plotter()"
   ]
  },
  {
   "cell_type": "markdown",
   "id": "b19933a9",
   "metadata": {},
   "source": [
    " Lag en funksjon som beregner I(i, j), definert i ligning (12). Funksjonen skal ta\n",
    "inn dataen fra simuleringen, samt xmin, xmax, ymin, ymax. Ta ogs˚a inn nx og ny slik at\n",
    "oppløsningen til I kan endres.\n",
    "Tips: Her kan dere spare mye tid ved ˚a bruke np.histogram2d. Da beregnes I i hele\n",
    "rutenettet (med nxny ruter). Hvis dere bruker periodiske grensebetingelser eller harde\n",
    "vegger er det naturlig ˚a relatere xmin, xmax, ymin, ymax til Lx og Ly."
   ]
  },
  {
   "cell_type": "code",
   "execution_count": 364,
   "id": "ec960849",
   "metadata": {},
   "outputs": [
    {
     "name": "stdout",
     "output_type": "stream",
     "text": [
      "Virrevandrer_i_tumor_med_redusert_fart bruker 0.0307 sekunder\n",
      "0.5\n",
      "Virrevandrer_i_tumor_med_redusert_fart bruker 0.0271 sekunder\n",
      "<class 'numpy.ndarray'>\n"
     ]
    },
    {
     "data": {
      "image/png": "[encoded data removed]",
      "text/plain": [
       "<Figure size 432x288 with 1 Axes>"
      ]
     },
     "metadata": {
      "needs_background": "light"
     },
     "output_type": "display_data"
    },
    {
     "data": {
      "image/png": "[encoded data removed]",
      "text/plain": [
       "<Figure size 432x288 with 1 Axes>"
      ]
     },
     "metadata": {
      "needs_background": "light"
     },
     "output_type": "display_data"
    }
   ],
   "source": [
    "\n",
    "\n",
    "M = 100\n",
    "N = 500\n",
    "n = 100\n",
    "m = 40\n",
    "t_k = 0.5\n",
    "r=0.002\n",
    "\n",
    "x_pos, y_pos = tumor(L,m)\n",
    "\n",
    "x = np.linspace(0,L,n)\n",
    "y = np.linspace(0,L,n)\n",
    "a = np.full((n,n),dx,dtype=float)\n",
    "grid = np.meshgrid(x,y)\n",
    "xx,yy=grid\n",
    "\n",
    "for i in range(m):\n",
    "    under_rot = (xx - x_pos[i])**2+(yy - y_pos[i])**2\n",
    "    a *= np.where(np.sqrt(under_rot) <= r,np.sqrt(t_k),1)\n",
    "\n",
    "\n",
    "tid, pos_x,pos_y = virrevandrer_i_tumor_med_redusert_fart(100,0.5,3,0.2,a,n,r)\n",
    "    \n",
    "def I_matrise(pos_x,pos_y,M,N,x_min,x_max,n_x,y_min,y_max,n_y):\n",
    "\n",
    "    pos_x = np.concatenate(pos_x)\n",
    "    pos_y = np.concatenate(pos_y)\n",
    "\n",
    "    x_arr = np.linspace(x_min,x_max,n_x+1)\n",
    "    y_arr = np.linspace(y_min,y_max,n_y+1)\n",
    "\n",
    "    I_mat = np.histogram2d(pos_x,pos_y,bins = (x_arr,y_arr))\n",
    "    I_mat = I_mat[0]/N*M\n",
    "    print(type(I_mat[0]))\n",
    "    return I_mat\n",
    "\n",
    "\n",
    "print(t_k)\n",
    "tid, pos_x,pos_y = virrevandrer_i_tumor_med_redusert_fart(100,0.5,3,0.2,a,n,r)\n",
    "#finner plottet virrevandrere\n",
    "\n",
    "n = 100\n",
    "\n",
    "plt.pcolormesh(I_matrise(pos_x,pos_y,M,N,0,100,n,0,100,n))\n",
    "plt.show()\n",
    "\n",
    "plt.pcolormesh(a)\n",
    "plt.show()"
   ]
  },
  {
   "cell_type": "code",
   "execution_count": 35,
   "id": "c1f2ab85",
   "metadata": {},
   "outputs": [
    {
     "name": "stdout",
     "output_type": "stream",
     "text": [
      "virrevandrer_i_tumor_med_redusert_fart bruker 0.0298 sekunder\n"
     ]
    },
    {
     "ename": "ValueError",
     "evalue": "too many values to unpack (expected 2)",
     "output_type": "error",
     "traceback": [
      "\u001b[1;31m---------------------------------------------------------------------------\u001b[0m",
      "\u001b[1;31mAttributeError\u001b[0m                            Traceback (most recent call last)",
      "\u001b[1;32m~\\anaconda3\\lib\\site-packages\\numpy\\lib\\histograms.py\u001b[0m in \u001b[0;36mhistogramdd\u001b[1;34m(sample, bins, range, normed, weights, density)\u001b[0m\n\u001b[0;32m   1014\u001b[0m         \u001b[1;31m# Sample is an ND-array.\u001b[0m\u001b[1;33m\u001b[0m\u001b[1;33m\u001b[0m\u001b[1;33m\u001b[0m\u001b[0m\n\u001b[1;32m-> 1015\u001b[1;33m         \u001b[0mN\u001b[0m\u001b[1;33m,\u001b[0m \u001b[0mD\u001b[0m \u001b[1;33m=\u001b[0m \u001b[0msample\u001b[0m\u001b[1;33m.\u001b[0m\u001b[0mshape\u001b[0m\u001b[1;33m\u001b[0m\u001b[1;33m\u001b[0m\u001b[0m\n\u001b[0m\u001b[0;32m   1016\u001b[0m     \u001b[1;32mexcept\u001b[0m \u001b[1;33m(\u001b[0m\u001b[0mAttributeError\u001b[0m\u001b[1;33m,\u001b[0m \u001b[0mValueError\u001b[0m\u001b[1;33m)\u001b[0m\u001b[1;33m:\u001b[0m\u001b[1;33m\u001b[0m\u001b[1;33m\u001b[0m\u001b[0m\n",
      "\u001b[1;31mAttributeError\u001b[0m: 'list' object has no attribute 'shape'",
      "\nDuring handling of the above exception, another exception occurred:\n",
      "\u001b[1;31mValueError\u001b[0m                                Traceback (most recent call last)",
      "\u001b[1;32m<ipython-input-35-c4c3642e0b77>\u001b[0m in \u001b[0;36m<module>\u001b[1;34m\u001b[0m\n\u001b[0;32m     15\u001b[0m     \u001b[0max\u001b[0m\u001b[1;33m.\u001b[0m\u001b[0mimages\u001b[0m\u001b[1;33m.\u001b[0m\u001b[0mappend\u001b[0m\u001b[1;33m(\u001b[0m\u001b[0mim\u001b[0m\u001b[1;33m)\u001b[0m\u001b[1;33m\u001b[0m\u001b[1;33m\u001b[0m\u001b[0m\n\u001b[0;32m     16\u001b[0m     \u001b[0mplt\u001b[0m\u001b[1;33m.\u001b[0m\u001b[0mshow\u001b[0m\u001b[1;33m(\u001b[0m\u001b[1;33m)\u001b[0m\u001b[1;33m\u001b[0m\u001b[1;33m\u001b[0m\u001b[0m\n\u001b[1;32m---> 17\u001b[1;33m \u001b[0mhisto\u001b[0m\u001b[1;33m(\u001b[0m\u001b[1;33m)\u001b[0m\u001b[1;33m\u001b[0m\u001b[1;33m\u001b[0m\u001b[0m\n\u001b[0m",
      "\u001b[1;32m<ipython-input-35-c4c3642e0b77>\u001b[0m in \u001b[0;36mhisto\u001b[1;34m()\u001b[0m\n\u001b[0;32m      3\u001b[0m     \u001b[0mtid\u001b[0m\u001b[1;33m,\u001b[0m \u001b[0mpos_x\u001b[0m\u001b[1;33m,\u001b[0m\u001b[0mpos_y\u001b[0m \u001b[1;33m=\u001b[0m \u001b[0mvirrevandrer_i_tumor_med_redusert_fart\u001b[0m\u001b[1;33m(\u001b[0m\u001b[1;36m100\u001b[0m\u001b[1;33m,\u001b[0m\u001b[1;36m0.5\u001b[0m\u001b[1;33m,\u001b[0m\u001b[1;36m1\u001b[0m\u001b[1;33m,\u001b[0m\u001b[1;36m0.1\u001b[0m\u001b[1;33m)\u001b[0m\u001b[1;33m\u001b[0m\u001b[1;33m\u001b[0m\u001b[0m\n\u001b[0;32m      4\u001b[0m \u001b[1;33m\u001b[0m\u001b[0m\n\u001b[1;32m----> 5\u001b[1;33m     \u001b[0mI\u001b[0m   \u001b[1;33m=\u001b[0m \u001b[0mnp\u001b[0m\u001b[1;33m.\u001b[0m\u001b[0mhistogram2d\u001b[0m\u001b[1;33m(\u001b[0m\u001b[0mpos_x\u001b[0m\u001b[1;33m,\u001b[0m\u001b[0mpos_y\u001b[0m\u001b[1;33m)\u001b[0m\u001b[1;33m\u001b[0m\u001b[1;33m\u001b[0m\u001b[0m\n\u001b[0m\u001b[0;32m      6\u001b[0m     \u001b[0mI\u001b[0m\u001b[1;33m.\u001b[0m\u001b[0mTranspose\u001b[0m\u001b[1;33m(\u001b[0m\u001b[1;33m)\u001b[0m\u001b[1;33m\u001b[0m\u001b[1;33m\u001b[0m\u001b[0m\n\u001b[0;32m      7\u001b[0m     \u001b[0mI_2\u001b[0m \u001b[1;33m=\u001b[0m \u001b[0mnumbers\u001b[0m\u001b[1;33m/\u001b[0m\u001b[1;33m(\u001b[0m\u001b[0mM\u001b[0m\u001b[1;33m*\u001b[0m\u001b[0mN\u001b[0m\u001b[1;33m)\u001b[0m\u001b[1;33m\u001b[0m\u001b[1;33m\u001b[0m\u001b[0m\n",
      "\u001b[1;32m<__array_function__ internals>\u001b[0m in \u001b[0;36mhistogram2d\u001b[1;34m(*args, **kwargs)\u001b[0m\n",
      "\u001b[1;32m~\\anaconda3\\lib\\site-packages\\numpy\\lib\\twodim_base.py\u001b[0m in \u001b[0;36mhistogram2d\u001b[1;34m(x, y, bins, range, normed, weights, density)\u001b[0m\n\u001b[0;32m    742\u001b[0m         \u001b[0mxedges\u001b[0m \u001b[1;33m=\u001b[0m \u001b[0myedges\u001b[0m \u001b[1;33m=\u001b[0m \u001b[0masarray\u001b[0m\u001b[1;33m(\u001b[0m\u001b[0mbins\u001b[0m\u001b[1;33m)\u001b[0m\u001b[1;33m\u001b[0m\u001b[1;33m\u001b[0m\u001b[0m\n\u001b[0;32m    743\u001b[0m         \u001b[0mbins\u001b[0m \u001b[1;33m=\u001b[0m \u001b[1;33m[\u001b[0m\u001b[0mxedges\u001b[0m\u001b[1;33m,\u001b[0m \u001b[0myedges\u001b[0m\u001b[1;33m]\u001b[0m\u001b[1;33m\u001b[0m\u001b[1;33m\u001b[0m\u001b[0m\n\u001b[1;32m--> 744\u001b[1;33m     \u001b[0mhist\u001b[0m\u001b[1;33m,\u001b[0m \u001b[0medges\u001b[0m \u001b[1;33m=\u001b[0m \u001b[0mhistogramdd\u001b[0m\u001b[1;33m(\u001b[0m\u001b[1;33m[\u001b[0m\u001b[0mx\u001b[0m\u001b[1;33m,\u001b[0m \u001b[0my\u001b[0m\u001b[1;33m]\u001b[0m\u001b[1;33m,\u001b[0m \u001b[0mbins\u001b[0m\u001b[1;33m,\u001b[0m \u001b[0mrange\u001b[0m\u001b[1;33m,\u001b[0m \u001b[0mnormed\u001b[0m\u001b[1;33m,\u001b[0m \u001b[0mweights\u001b[0m\u001b[1;33m,\u001b[0m \u001b[0mdensity\u001b[0m\u001b[1;33m)\u001b[0m\u001b[1;33m\u001b[0m\u001b[1;33m\u001b[0m\u001b[0m\n\u001b[0m\u001b[0;32m    745\u001b[0m     \u001b[1;32mreturn\u001b[0m \u001b[0mhist\u001b[0m\u001b[1;33m,\u001b[0m \u001b[0medges\u001b[0m\u001b[1;33m[\u001b[0m\u001b[1;36m0\u001b[0m\u001b[1;33m]\u001b[0m\u001b[1;33m,\u001b[0m \u001b[0medges\u001b[0m\u001b[1;33m[\u001b[0m\u001b[1;36m1\u001b[0m\u001b[1;33m]\u001b[0m\u001b[1;33m\u001b[0m\u001b[1;33m\u001b[0m\u001b[0m\n\u001b[0;32m    746\u001b[0m \u001b[1;33m\u001b[0m\u001b[0m\n",
      "\u001b[1;32m<__array_function__ internals>\u001b[0m in \u001b[0;36mhistogramdd\u001b[1;34m(*args, **kwargs)\u001b[0m\n",
      "\u001b[1;32m~\\anaconda3\\lib\\site-packages\\numpy\\lib\\histograms.py\u001b[0m in \u001b[0;36mhistogramdd\u001b[1;34m(sample, bins, range, normed, weights, density)\u001b[0m\n\u001b[0;32m   1017\u001b[0m         \u001b[1;31m# Sample is a sequence of 1D arrays.\u001b[0m\u001b[1;33m\u001b[0m\u001b[1;33m\u001b[0m\u001b[1;33m\u001b[0m\u001b[0m\n\u001b[0;32m   1018\u001b[0m         \u001b[0msample\u001b[0m \u001b[1;33m=\u001b[0m \u001b[0mnp\u001b[0m\u001b[1;33m.\u001b[0m\u001b[0matleast_2d\u001b[0m\u001b[1;33m(\u001b[0m\u001b[0msample\u001b[0m\u001b[1;33m)\u001b[0m\u001b[1;33m.\u001b[0m\u001b[0mT\u001b[0m\u001b[1;33m\u001b[0m\u001b[1;33m\u001b[0m\u001b[0m\n\u001b[1;32m-> 1019\u001b[1;33m         \u001b[0mN\u001b[0m\u001b[1;33m,\u001b[0m \u001b[0mD\u001b[0m \u001b[1;33m=\u001b[0m \u001b[0msample\u001b[0m\u001b[1;33m.\u001b[0m\u001b[0mshape\u001b[0m\u001b[1;33m\u001b[0m\u001b[1;33m\u001b[0m\u001b[0m\n\u001b[0m\u001b[0;32m   1020\u001b[0m \u001b[1;33m\u001b[0m\u001b[0m\n\u001b[0;32m   1021\u001b[0m     \u001b[0mnbin\u001b[0m \u001b[1;33m=\u001b[0m \u001b[0mnp\u001b[0m\u001b[1;33m.\u001b[0m\u001b[0mempty\u001b[0m\u001b[1;33m(\u001b[0m\u001b[0mD\u001b[0m\u001b[1;33m,\u001b[0m \u001b[0mint\u001b[0m\u001b[1;33m)\u001b[0m\u001b[1;33m\u001b[0m\u001b[1;33m\u001b[0m\u001b[0m\n",
      "\u001b[1;31mValueError\u001b[0m: too many values to unpack (expected 2)"
     ]
    }
   ],
   "source": [
    "from matplotlib.image import NonUniformImage\n",
    "def histo():\n",
    "    tid, pos_x,pos_y = virrevandrer_i_tumor_med_redusert_fart(100,0.5,1,0.1)\n",
    "    \n",
    "    I   = np.histogram2d(pos_x,pos_y)\n",
    "    I.Transpose()\n",
    "    I_2 = numbers/(M*N)\n",
    "    x_edges =np.linspace(N,M)\n",
    "    y_edges =np.linspace(N,M)\n",
    "    axis = fig.add_subplot(133, title='NonUniformImage: interpolated',aspect='equal', xlim=xedges[[0, -1]], ylim=yedges[[0, -1]])\n",
    "    image = NonUniformImage(axis, interpolation='bilinear')\n",
    "    xcenters = (xedges[:-1] + xedges[1:]) / 2\n",
    "    ycenters = (yedges[:-1] + yedges[1:]) / 2\n",
    "    image.set_data(xcenters, ycenters, H)\n",
    "    ax.images.append(im)\n",
    "    plt.show()\n",
    "histo()"
   ]
  },
  {
   "cell_type": "markdown",
   "id": "eb0203fb",
   "metadata": {},
   "source": [
    "Gjør ´en simulering i et system med 10 < m < 25 tumorer, der {tk} er tilfeldig\n",
    "valgte innenfor intervallet (0.3, 0.45). Bestem selv M, N, L, Lx og Ly, samt størrelsene\n",
    "p˚a tumorene. Beregn I(i, j) for simuleringen med nx = ny = n = 40 og illustrer\n",
    "resultatet. Inkluder ogs˚a en figur som viser posisjonen til tumorene slik dere gjorde i\n",
    "2c). Drøft hvorvidt I(i, j) kan brukes til ˚a detektere tumorenes posisjon og størrelse.\n",
    "Dette vil i stor grad avhenge av valget deres for M og N, men ogs˚a (i mindre grad)\n",
    "valget deres for L, Lx og Ly."
   ]
  },
  {
   "cell_type": "code",
   "execution_count": 8,
   "id": "ab2e94f9",
   "metadata": {},
   "outputs": [
    {
     "name": "stdout",
     "output_type": "stream",
     "text": [
      "0.0308 sekunder\n"
     ]
    },
    {
     "data": {
      "image/png": "[encoded data removed]",
      "text/plain": [
       "<Figure size 432x288 with 1 Axes>"
      ]
     },
     "metadata": {
      "needs_background": "light"
     },
     "output_type": "display_data"
    },
    {
     "data": {
      "image/png": "[encoded data removed]",
      "text/plain": [
       "<Figure size 432x288 with 1 Axes>"
      ]
     },
     "metadata": {
      "needs_background": "light"
     },
     "output_type": "display_data"
    }
   ],
   "source": [
    "def tumor(L,m):\n",
    "    x_pos =  np.random.uniform(0, L, m)\n",
    "    \n",
    "    y_pos =  np.random.uniform(0, L, m)\n",
    "    return x_pos, y_pos\n",
    "\n",
    "\n",
    "M = 100\n",
    "n = 100\n",
    "L = 0.02\n",
    "m = 30\n",
    "x_pos, y_pos = tumor(L,m)\n",
    "x = np.linspace(0,L,M)\n",
    "y = np.linspace(0,L,M)\n",
    "a = np.full((n,n),dx,dtype=float)\n",
    "grid = np.meshgrid(x,y)\n",
    "xx,yy=grid\n",
    "radius = 0.002\n",
    "t_k = 0.2\n",
    "\n",
    "\n",
    "\n",
    "\n",
    "\n",
    "for i in range(m):\n",
    "    under_rot = (xx - x_pos[i])**2+(yy - y_pos[i])**2\n",
    "    a *= np.where(np.sqrt(under_rot) <= radius,np.sqrt(t_k),1)\n",
    "    \n",
    "    \n",
    "\n",
    "\n",
    "def appendix5(M,pr,N,a,n):\n",
    "    \n",
    "    pos_x = np.zeros((N,M))\n",
    "    pos_y = np.zeros((N,M))\n",
    "    tid = np.linspace(0, 1, M)\n",
    "\n",
    "    for i in range(0,N):\n",
    "        TilfeldigeTall1 = np.random.uniform(0,1,M)\n",
    "        TilfeldigeTall2 = np.random.uniform(0,1,M)\n",
    "        pos_x[i][0] = np.random.randint(0,M)\n",
    "        pos_y[i][0] = np.random.randint(0,M)\n",
    "        for j in range (1,M):\n",
    " \n",
    "            if TilfeldigeTall1[j] < pr:\n",
    "                if TilfeldigeTall2[j] < pr:\n",
    "                    if abs(pos_x[i][j-1] - 100) <= 10:\n",
    "                        dx = -a[int(pos_x[i][j-1]*n/M)-1][int(pos_y[i][j-1]*n/M)-1]\n",
    "                    else:\n",
    "                        dx = a[int(pos_x[i][j-1]*n/M)-1][int(pos_y[i][j-1]*n/M)-1]\n",
    "                    pos_x[i][j] = pos_x[i][j-1] + dx*10\n",
    "                    pos_y[i][j] = pos_y[i][j-1]\n",
    "                else:               \n",
    "                    if abs(pos_x[i][j-1]) <= 10:\n",
    "                        dx = -a[int(pos_x[i][j-1]*n/M)-1][int(pos_y[i][j-1]*n/M)-1]\n",
    "                    else:\n",
    "                        dx = a[int(pos_x[i][j-1]*n/M)-1][int(pos_y[i][j-1]*n/M)-1]\n",
    "                    pos_x[i][j] = pos_x[i][j-1] - dx*10\n",
    "                    pos_y[i][j] = pos_y[i][j-1]\n",
    "            else:            \n",
    "                if TilfeldigeTall2[j] < pr:\n",
    "                                    \n",
    "                    if abs(pos_y[i][j-1]-100) <= 10:\n",
    "                        dx = -a[int(pos_x[i][j-1]*n/M)-1][int(pos_y[i][j-1]*n/M)-1]\n",
    "                    else:\n",
    "                        dx = a[int(pos_x[i][j-1]*n/M)-1][int(pos_y[i][j-1]*n/M)-1]\n",
    "                    pos_y[i][j] = pos_y[i][j-1] + dx*10\n",
    "                    pos_x[i][j] = pos_x[i][j-1]\n",
    "                else:                   \n",
    "                    if abs(pos_y[i][j-1]) <=10 :\n",
    "                        dx = -a[int(pos_x[i][j-1]*n/M)-1][int(pos_y[i][j-1]*n/M)-1] \n",
    "                    else:\n",
    "                        dx = a[int(pos_x[i][j-1]*n/M)-1][int(pos_y[i][j-1]*n/M)-1]\n",
    "                    \n",
    "                    pos_y[i][j] = pos_y[i][j-1] - dx*10\n",
    "                    pos_x[i][j] = pos_x[i][j-1]\n",
    "\n",
    "\n",
    "    return tid, pos_x, pos_y\n",
    "\n",
    "\n",
    "\n",
    "\n",
    "\n",
    "\n",
    "\n",
    "\n",
    "\n",
    "\n",
    "print(round(timeit.timeit(),4),\"sekunder\")\n",
    "\n",
    "\n",
    "\n",
    "    \n",
    "tid, pos_x,pos_y = appendix5(M,0.5,3,a,n)\n",
    "\n",
    "\n",
    "plt.pcolormesh(a)\n",
    "\n",
    "\n",
    "\n",
    "\n",
    "plt.xlim(0,n)\n",
    "plt.ylim(0,n)\n",
    "plt.plot(pos_x[0],pos_y[0])#finner plottet virrevandrere\n",
    "\n",
    "plt.show()\n",
    "\n",
    "plt.plot(pos_x[0],pos_y[0])\n",
    "plt.show()"
   ]
  },
  {
   "cell_type": "code",
   "execution_count": null,
   "id": "2b26dd20",
   "metadata": {},
   "outputs": [],
   "source": []
  },
  {
   "cell_type": "code",
   "execution_count": null,
   "id": "3ec9f3cd",
   "metadata": {},
   "outputs": [],
   "source": []
  },
  {
   "cell_type": "code",
   "execution_count": 133,
   "id": "8f783a8f",
   "metadata": {},
   "outputs": [],
   "source": []
  },
  {
   "cell_type": "code",
   "execution_count": null,
   "id": "8e060f86",
   "metadata": {},
   "outputs": [],
   "source": [
    "#vandrerne blir stuck i tumorene og derofr vises det dårlig i sobefilteret, fordi de bruker laang tid inne i tumorene og får dermed aldri undersøkt hele x,y planet."
   ]
  }
 ],
 "metadata": {
  "kernelspec": {
   "display_name": "Python 3",
   "language": "python",
   "name": "python3"
  },
  "language_info": {
   "codemirror_mode": {
    "name": "ipython",
    "version": 3
   },
   "file_extension": ".py",
   "mimetype": "text/x-python",
   "name": "python",
   "nbconvert_exporter": "python",
   "pygments_lexer": "ipython3",
   "version": "3.8.8"
  }
 },
 "nbformat": 4,
 "nbformat_minor": 5
}
